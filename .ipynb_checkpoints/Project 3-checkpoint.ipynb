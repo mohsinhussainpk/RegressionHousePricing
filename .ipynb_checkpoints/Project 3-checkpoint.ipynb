{
 "cells": [
  {
   "cell_type": "code",
   "execution_count": 1,
   "metadata": {
    "scrolled": false
   },
   "outputs": [
    {
     "name": "stderr",
     "output_type": "stream",
     "text": [
      "C:\\Users\\dell\\Anaconda3\\lib\\site-packages\\h5py\\__init__.py:36: FutureWarning: Conversion of the second argument of issubdtype from `float` to `np.floating` is deprecated. In future, it will be treated as `np.float64 == np.dtype(float).type`.\n",
      "  from ._conv import register_converters as _register_converters\n",
      "Using TensorFlow backend.\n"
     ]
    }
   ],
   "source": [
    "import numpy\n",
    "import pandas\n",
    "from keras.models import Sequential\n",
    "from keras.layers import Dense\n",
    "from keras import models\n",
    "from keras import layers\n",
    "from keras.wrappers.scikit_learn import KerasRegressor\n",
    "from sklearn.model_selection import cross_val_score\n",
    "from sklearn.model_selection import KFold\n",
    "from sklearn.preprocessing import StandardScaler\n",
    "from sklearn.pipeline import Pipeline\n",
    "\n"
   ]
  },
  {
   "cell_type": "code",
   "execution_count": 15,
   "metadata": {},
   "outputs": [],
   "source": [
    "# load dataset\n",
    "dataframe = pandas.read_csv(\"housing.csv\", delim_whitespace=True, header=None)\n",
    "from sklearn.utils import shuffle\n",
    "dataframe = shuffle(dataframe)\n",
    "dataset = dataframe.values\n",
    "# split into input (X) and output (Y) variables\n",
    "X = dataset[:,0:13]\n",
    "Y = dataset[:,13]\n"
   ]
  },
  {
   "cell_type": "markdown",
   "metadata": {},
   "source": [
    "## Baseline Neural Network Model"
   ]
  },
  {
   "cell_type": "code",
   "execution_count": 3,
   "metadata": {},
   "outputs": [],
   "source": [
    "# define baseline model\n",
    "def baseline_model():\n",
    "\n",
    "    model = models.Sequential()\n",
    "    model.add(layers.Dense(13, activation='relu',\n",
    "                          input_shape=(13,)))\n",
    "    model.add(layers.Dense(1))\n",
    "    model.compile(optimizer='adam', loss='mse', metrics=['mae'])\n",
    "\n",
    "\n",
    "    return model\n"
   ]
  },
  {
   "cell_type": "code",
   "execution_count": 4,
   "metadata": {},
   "outputs": [],
   "source": [
    "# fix random seed for reproducibility\n",
    "seed = 7\n",
    "numpy.random.seed(seed)\n"
   ]
  },
  {
   "cell_type": "code",
   "execution_count": 5,
   "metadata": {},
   "outputs": [],
   "source": [
    "estimator = KerasRegressor(build_fn=baseline_model, epochs=100, batch_size=5, verbose=0)"
   ]
  },
  {
   "cell_type": "code",
   "execution_count": 6,
   "metadata": {},
   "outputs": [
    {
     "name": "stdout",
     "output_type": "stream",
     "text": [
      "Results: -42.69 (23.42) MSE\n"
     ]
    }
   ],
   "source": [
    "kfold = KFold(n_splits=10, random_state=seed)\n",
    "results = cross_val_score(estimator, X, Y, cv=kfold)\n",
    "print(\"Results: %.2f (%.2f) MSE\" % (results.mean(), results.std()))\n",
    "\n"
   ]
  },
  {
   "cell_type": "markdown",
   "metadata": {},
   "source": [
    "## Modeling The Standardized Dataset"
   ]
  },
  {
   "cell_type": "code",
   "execution_count": 7,
   "metadata": {},
   "outputs": [
    {
     "name": "stdout",
     "output_type": "stream",
     "text": [
      "Standardized: -26.95 (32.53) MSE\n"
     ]
    }
   ],
   "source": [
    "# evaluate model with standardized dataset\n",
    "numpy.random.seed(seed)\n",
    "estimators = []\n",
    "estimators.append(('standardize', StandardScaler()))\n",
    "estimators.append(('mlp', KerasRegressor(build_fn=baseline_model, epochs=50, batch_size=5, verbose=0)))\n",
    "pipeline = Pipeline(estimators)\n",
    "kfold = KFold(n_splits=10, random_state=seed)\n",
    "results = cross_val_score(pipeline, X, Y, cv=kfold)\n",
    "print(\"Standardized: %.2f (%.2f) MSE\" % (results.mean(), results.std()))\n"
   ]
  },
  {
   "cell_type": "code",
   "execution_count": 8,
   "metadata": {},
   "outputs": [
    {
     "name": "stdout",
     "output_type": "stream",
     "text": [
      "Standardized: -546.51 (276.40) MSE\n"
     ]
    }
   ],
   "source": [
    "# define baseline model\n",
    "def sigmoid_model():\n",
    "\n",
    "    model = models.Sequential()\n",
    "    model.add(layers.Dense(13, activation='relu',\n",
    "                          input_shape=(13,)))\n",
    "    model.add(layers.Dense(1, activation='sigmoid'))\n",
    "    model.compile(optimizer='adam', loss='mse', metrics=['mae'])\n",
    "\n",
    "\n",
    "    return model\n",
    "\n",
    "\n",
    "# evaluate model with standardized dataset\n",
    "numpy.random.seed(seed)\n",
    "estimators = []\n",
    "estimators.append(('standardize', StandardScaler()))\n",
    "estimators.append(('mlp', KerasRegressor(build_fn=sigmoid_model, epochs=50, batch_size=5, verbose=0)))\n",
    "pipeline = Pipeline(estimators)\n",
    "kfold = KFold(n_splits=10, random_state=seed)\n",
    "results = cross_val_score(pipeline, X, Y, cv=kfold)\n",
    "print(\"Standardized: %.2f (%.2f) MSE\" % (results.mean(), results.std()))\n"
   ]
  },
  {
   "cell_type": "markdown",
   "metadata": {},
   "source": [
    "## Deeper Network Topology "
   ]
  },
  {
   "cell_type": "code",
   "execution_count": 9,
   "metadata": {},
   "outputs": [
    {
     "name": "stdout",
     "output_type": "stream",
     "text": [
      "Standardized: -23.42 (30.40) MSE\n"
     ]
    }
   ],
   "source": [
    "# define larger model\n",
    "def larger_model():\n",
    "\n",
    "    model = models.Sequential()\n",
    "    model.add(layers.Dense(13, activation='relu', input_shape=(13,)))\n",
    "    model.add(layers.Dense(6, activation='relu'))                \n",
    "    model.add(layers.Dense(1,))\n",
    "    model.compile(optimizer='adam', loss='mse', metrics=['mae'])\n",
    "\n",
    "\n",
    "    return model\n",
    "\n",
    "\n",
    "# evaluate model with standardized dataset\n",
    "numpy.random.seed(seed)\n",
    "estimators = []\n",
    "estimators.append(('standardize', StandardScaler()))\n",
    "estimators.append(('mlp', KerasRegressor(build_fn=larger_model, epochs=100, batch_size=5, verbose=0)))\n",
    "pipeline = Pipeline(estimators)\n",
    "kfold = KFold(n_splits=10, random_state=seed)\n",
    "results = cross_val_score(pipeline, X, Y, cv=kfold)\n",
    "print(\"Standardized: %.2f (%.2f) MSE\" % (results.mean(), results.std()))\n"
   ]
  },
  {
   "cell_type": "markdown",
   "metadata": {},
   "source": [
    "## Wider Network Topology"
   ]
  },
  {
   "cell_type": "code",
   "execution_count": 10,
   "metadata": {},
   "outputs": [
    {
     "name": "stdout",
     "output_type": "stream",
     "text": [
      "Standardized: -21.23 (21.89) MSE\n"
     ]
    }
   ],
   "source": [
    "# define baseline model\n",
    "def wider_model():\n",
    "\n",
    "    model = models.Sequential()\n",
    "    model.add(layers.Dense(20, activation='relu',\n",
    "                          input_shape=(13,)))\n",
    "    model.add(layers.Dense(1))\n",
    "    model.compile(optimizer='adam', loss='mse', metrics=['mae'])\n",
    "\n",
    "\n",
    "    return model\n",
    "\n",
    "# evaluate model with standardized dataset\n",
    "numpy.random.seed(seed)\n",
    "estimators = []\n",
    "estimators.append(('standardize', StandardScaler()))\n",
    "estimators.append(('mlp', KerasRegressor(build_fn=wider_model, epochs=100, batch_size=5, verbose=0)))\n",
    "pipeline = Pipeline(estimators)\n",
    "kfold = KFold(n_splits=10, random_state=seed)\n",
    "results = cross_val_score(pipeline, X, Y, cv=kfold)\n",
    "print(\"Standardized: %.2f (%.2f) MSE\" % (results.mean(), results.std()))\n",
    "\n"
   ]
  },
  {
   "cell_type": "markdown",
   "metadata": {},
   "source": [
    "## Model That Overfits"
   ]
  },
  {
   "cell_type": "code",
   "execution_count": 11,
   "metadata": {},
   "outputs": [
    {
     "name": "stdout",
     "output_type": "stream",
     "text": [
      "Standardized: -24.53 (26.69) MSE\n"
     ]
    }
   ],
   "source": [
    "# define overfit model\n",
    "def overfit_model():\n",
    "\n",
    "    model = models.Sequential()\n",
    "    model.add(layers.Dense(30, activation='relu',\n",
    "                          input_shape=(13,)))\n",
    "    model.add(layers.Dense(20, activation='relu'))\n",
    "    model.add(layers.Dense(1,))\n",
    "    model.compile(optimizer='adam', loss='mse', metrics=['mae'])\n",
    "\n",
    "\n",
    "    return model\n",
    "\n",
    "\n",
    "# evaluate model with standardized dataset\n",
    "numpy.random.seed(seed)\n",
    "estimators = []\n",
    "estimators.append(('standardize', StandardScaler()))\n",
    "estimators.append(('mlp', KerasRegressor(build_fn=larger_model, epochs=300, batch_size=5, verbose=0)))\n",
    "pipeline = Pipeline(estimators)\n",
    "kfold = KFold(n_splits=10, random_state=seed)\n",
    "results = cross_val_score(pipeline, X, Y, cv=kfold)\n",
    "print(\"Standardized: %.2f (%.2f) MSE\" % (results.mean(), results.std()))\n"
   ]
  },
  {
   "cell_type": "markdown",
   "metadata": {},
   "source": [
    "## Tuned Model "
   ]
  },
  {
   "cell_type": "code",
   "execution_count": 31,
   "metadata": {},
   "outputs": [
    {
     "name": "stdout",
     "output_type": "stream",
     "text": [
      "Standardized: -12.30 (5.79) MSE\n"
     ]
    }
   ],
   "source": [
    "# define overfit model\n",
    "def tuned_model():\n",
    "\n",
    "    model = models.Sequential()\n",
    "    model.add(layers.Dense(20, activation='relu',\n",
    "                          input_shape=(13,)))\n",
    "    model.add(layers.Dense(1,))\n",
    "    model.compile(optimizer='adam', loss='mse', metrics=['mae'])\n",
    "\n",
    "\n",
    "    return model\n",
    "\n",
    "\n",
    "\n",
    "\n",
    "\n",
    "# evaluate model with standardized dataset\n",
    "numpy.random.seed(seed)\n",
    "estimators = []\n",
    "estimators.append(('standardize', StandardScaler()))\n",
    "estimators.append(('mlp', KerasRegressor(build_fn=tuned_model, epochs=150, batch_size=5, verbose=0)))\n",
    "pipeline = Pipeline(estimators)\n",
    "kfold = KFold(n_splits=10, random_state=seed)\n",
    "results = cross_val_score(pipeline, X, Y, cv=kfold)\n",
    "print(\"Standardized: %.2f (%.2f) MSE\" % (results.mean(), results.std()))\n"
   ]
  },
  {
   "cell_type": "markdown",
   "metadata": {},
   "source": [
    "## Using Keras Functional API"
   ]
  },
  {
   "cell_type": "code",
   "execution_count": 13,
   "metadata": {},
   "outputs": [
    {
     "name": "stdout",
     "output_type": "stream",
     "text": [
      "Standardized: -21.30 (21.83) MSE\n"
     ]
    }
   ],
   "source": [
    "from keras.layers import Input, Dense\n",
    "from keras.models import Model\n",
    "import keras\n",
    "\n",
    "def functional_model():\n",
    "\n",
    " # This returns a tensor\n",
    " inputs = keras.Input(shape=(13,))\n",
    "\n",
    " # a layer instance is callable on a tensor, and returns a tensor\n",
    " x = Dense(20, activation='relu')(inputs)\n",
    " predictions = Dense(1)(x)\n",
    "\n",
    " # This creates a model that includes\n",
    " # the InputA layer and three Dense layers\n",
    " model = Model(inputs=inputs, outputs=predictions)\n",
    " model.compile(optimizer='adam',\n",
    "              loss='mse',\n",
    "              metrics=['mae'])\n",
    " return model\n",
    "\n",
    "#history = model.fit(X, encoded_Y, epochs=10, batch_size=30)  # starts training\n",
    "\n",
    "# evaluate model with standardized dataset\n",
    "numpy.random.seed(seed)\n",
    "estimators = []\n",
    "estimators.append(('standardize', StandardScaler()))\n",
    "estimators.append(('mlp', KerasRegressor(build_fn=functional_model, epochs=100, batch_size=5, verbose=0)))\n",
    "pipeline = Pipeline(estimators)\n",
    "kfold = KFold(n_splits=10, random_state=seed)\n",
    "results = cross_val_score(pipeline, X, Y, cv=kfold)\n",
    "print(\"Standardized: %.2f (%.2f) MSE\" % (results.mean(), results.std()))\n"
   ]
  },
  {
   "cell_type": "markdown",
   "metadata": {},
   "source": [
    "## Using Model Subclassing "
   ]
  },
  {
   "cell_type": "code",
   "execution_count": 14,
   "metadata": {},
   "outputs": [
    {
     "name": "stdout",
     "output_type": "stream",
     "text": [
      "Epoch 1/100\n",
      "506/506 [==============================] - 7s 14ms/step - loss: 4350.7463 - mean_absolute_error: 54.1604\n",
      "Epoch 2/100\n",
      "506/506 [==============================] - 0s 545us/step - loss: 514.5853 - mean_absolute_error: 16.0162\n",
      "Epoch 3/100\n",
      "506/506 [==============================] - 0s 687us/step - loss: 116.0711 - mean_absolute_error: 7.6124\n",
      "Epoch 4/100\n",
      "506/506 [==============================] - 0s 697us/step - loss: 90.5882 - mean_absolute_error: 7.0204\n",
      "Epoch 5/100\n",
      "506/506 [==============================] - 0s 594us/step - loss: 77.0358 - mean_absolute_error: 6.3948\n",
      "Epoch 6/100\n",
      "506/506 [==============================] - 0s 871us/step - loss: 70.6713 - mean_absolute_error: 6.0731\n",
      "Epoch 7/100\n",
      "506/506 [==============================] - 0s 681us/step - loss: 65.9946 - mean_absolute_error: 5.7408\n",
      "Epoch 8/100\n",
      "506/506 [==============================] - 0s 689us/step - loss: 61.0681 - mean_absolute_error: 5.5975\n",
      "Epoch 9/100\n",
      "506/506 [==============================] - 0s 736us/step - loss: 57.2193 - mean_absolute_error: 5.3982\n",
      "Epoch 10/100\n",
      "506/506 [==============================] - 0s 663us/step - loss: 54.4018 - mean_absolute_error: 5.2396\n",
      "Epoch 11/100\n",
      "506/506 [==============================] - 0s 665us/step - loss: 50.2783 - mean_absolute_error: 5.0499\n",
      "Epoch 12/100\n",
      "506/506 [==============================] - 0s 719us/step - loss: 47.7942 - mean_absolute_error: 4.8212\n",
      "Epoch 13/100\n",
      "506/506 [==============================] - 0s 742us/step - loss: 45.5564 - mean_absolute_error: 4.7541\n",
      "Epoch 14/100\n",
      "506/506 [==============================] - 0s 642us/step - loss: 44.7140 - mean_absolute_error: 4.7653\n",
      "Epoch 15/100\n",
      "506/506 [==============================] - 0s 646us/step - loss: 43.4982 - mean_absolute_error: 4.6502\n",
      "Epoch 16/100\n",
      "506/506 [==============================] - 0s 641us/step - loss: 42.1525 - mean_absolute_error: 4.6197\n",
      "Epoch 17/100\n",
      "506/506 [==============================] - 0s 633us/step - loss: 39.8944 - mean_absolute_error: 4.5575\n",
      "Epoch 18/100\n",
      "506/506 [==============================] - 0s 664us/step - loss: 41.8648 - mean_absolute_error: 4.6407\n",
      "Epoch 19/100\n",
      "506/506 [==============================] - 0s 792us/step - loss: 43.3075 - mean_absolute_error: 4.7771\n",
      "Epoch 20/100\n",
      "506/506 [==============================] - 0s 745us/step - loss: 38.1333 - mean_absolute_error: 4.3497\n",
      "Epoch 21/100\n",
      "506/506 [==============================] - 0s 705us/step - loss: 38.2979 - mean_absolute_error: 4.4951\n",
      "Epoch 22/100\n",
      "506/506 [==============================] - 0s 771us/step - loss: 38.7168 - mean_absolute_error: 4.4715\n",
      "Epoch 23/100\n",
      "506/506 [==============================] - 0s 714us/step - loss: 36.3866 - mean_absolute_error: 4.3420\n",
      "Epoch 24/100\n",
      "506/506 [==============================] - 0s 739us/step - loss: 36.7691 - mean_absolute_error: 4.3859\n",
      "Epoch 25/100\n",
      "506/506 [==============================] - 0s 781us/step - loss: 37.1459 - mean_absolute_error: 4.4166\n",
      "Epoch 26/100\n",
      "506/506 [==============================] - 0s 731us/step - loss: 35.6400 - mean_absolute_error: 4.2523\n",
      "Epoch 27/100\n",
      "506/506 [==============================] - 0s 764us/step - loss: 37.6311 - mean_absolute_error: 4.5431\n",
      "Epoch 28/100\n",
      "506/506 [==============================] - 0s 756us/step - loss: 35.0394 - mean_absolute_error: 4.2641\n",
      "Epoch 29/100\n",
      "506/506 [==============================] - 0s 741us/step - loss: 35.5903 - mean_absolute_error: 4.3312\n",
      "Epoch 30/100\n",
      "506/506 [==============================] - 0s 692us/step - loss: 34.2972 - mean_absolute_error: 4.2637\n",
      "Epoch 31/100\n",
      "506/506 [==============================] - 0s 697us/step - loss: 35.1875 - mean_absolute_error: 4.3358\n",
      "Epoch 32/100\n",
      "506/506 [==============================] - 0s 633us/step - loss: 34.8636 - mean_absolute_error: 4.2112\n",
      "Epoch 33/100\n",
      "506/506 [==============================] - 0s 778us/step - loss: 34.1980 - mean_absolute_error: 4.2495\n",
      "Epoch 34/100\n",
      "506/506 [==============================] - 0s 780us/step - loss: 36.3178 - mean_absolute_error: 4.3901\n",
      "Epoch 35/100\n",
      "506/506 [==============================] - 0s 757us/step - loss: 34.0958 - mean_absolute_error: 4.2880\n",
      "Epoch 36/100\n",
      "506/506 [==============================] - 0s 748us/step - loss: 35.6963 - mean_absolute_error: 4.3267\n",
      "Epoch 37/100\n",
      "506/506 [==============================] - 0s 885us/step - loss: 35.4514 - mean_absolute_error: 4.3955\n",
      "Epoch 38/100\n",
      "506/506 [==============================] - 0s 755us/step - loss: 33.8713 - mean_absolute_error: 4.2432\n",
      "Epoch 39/100\n",
      "506/506 [==============================] - 0s 750us/step - loss: 34.6282 - mean_absolute_error: 4.2892\n",
      "Epoch 40/100\n",
      "506/506 [==============================] - 0s 843us/step - loss: 32.8974 - mean_absolute_error: 4.1174\n",
      "Epoch 41/100\n",
      "506/506 [==============================] - 0s 756us/step - loss: 33.4482 - mean_absolute_error: 4.1334\n",
      "Epoch 42/100\n",
      "506/506 [==============================] - 0s 785us/step - loss: 32.1411 - mean_absolute_error: 4.0874\n",
      "Epoch 43/100\n",
      "506/506 [==============================] - 0s 762us/step - loss: 33.1379 - mean_absolute_error: 4.1875\n",
      "Epoch 44/100\n",
      "506/506 [==============================] - 0s 757us/step - loss: 34.6581 - mean_absolute_error: 4.2878\n",
      "Epoch 45/100\n",
      "506/506 [==============================] - 0s 780us/step - loss: 32.9171 - mean_absolute_error: 4.2085\n",
      "Epoch 46/100\n",
      "506/506 [==============================] - 0s 888us/step - loss: 33.0893 - mean_absolute_error: 4.1578\n",
      "Epoch 47/100\n",
      "506/506 [==============================] - 0s 760us/step - loss: 33.0416 - mean_absolute_error: 4.2056\n",
      "Epoch 48/100\n",
      "506/506 [==============================] - 0s 784us/step - loss: 31.6275 - mean_absolute_error: 4.1161\n",
      "Epoch 49/100\n",
      "506/506 [==============================] - 0s 792us/step - loss: 32.0939 - mean_absolute_error: 4.0505\n",
      "Epoch 50/100\n",
      "506/506 [==============================] - 0s 901us/step - loss: 33.4959 - mean_absolute_error: 4.2684\n",
      "Epoch 51/100\n",
      "506/506 [==============================] - 0s 750us/step - loss: 36.8897 - mean_absolute_error: 4.5025\n",
      "Epoch 52/100\n",
      "506/506 [==============================] - 0s 937us/step - loss: 33.5670 - mean_absolute_error: 4.2387\n",
      "Epoch 53/100\n",
      "506/506 [==============================] - 0s 934us/step - loss: 31.4379 - mean_absolute_error: 4.1258\n",
      "Epoch 54/100\n",
      "506/506 [==============================] - 0s 709us/step - loss: 34.9134 - mean_absolute_error: 4.4625\n",
      "Epoch 55/100\n",
      "506/506 [==============================] - 0s 829us/step - loss: 31.6528 - mean_absolute_error: 4.1229\n",
      "Epoch 56/100\n",
      "506/506 [==============================] - 0s 713us/step - loss: 31.1437 - mean_absolute_error: 3.9969\n",
      "Epoch 57/100\n",
      "506/506 [==============================] - 0s 760us/step - loss: 32.0800 - mean_absolute_error: 4.1120\n",
      "Epoch 58/100\n",
      "506/506 [==============================] - 0s 790us/step - loss: 34.4720 - mean_absolute_error: 4.3079\n",
      "Epoch 59/100\n",
      "506/506 [==============================] - 0s 879us/step - loss: 30.4878 - mean_absolute_error: 4.0344\n",
      "Epoch 60/100\n",
      "506/506 [==============================] - 0s 985us/step - loss: 33.3209 - mean_absolute_error: 4.3080\n",
      "Epoch 61/100\n",
      "506/506 [==============================] - 0s 803us/step - loss: 33.1929 - mean_absolute_error: 4.3046\n",
      "Epoch 62/100\n",
      "506/506 [==============================] - 0s 802us/step - loss: 31.4210 - mean_absolute_error: 4.1326\n",
      "Epoch 63/100\n",
      "506/506 [==============================] - 0s 680us/step - loss: 31.5738 - mean_absolute_error: 4.1236\n",
      "Epoch 64/100\n",
      "506/506 [==============================] - 0s 800us/step - loss: 33.6699 - mean_absolute_error: 4.4055\n",
      "Epoch 65/100\n",
      "506/506 [==============================] - 0s 982us/step - loss: 31.9481 - mean_absolute_error: 4.0802\n",
      "Epoch 66/100\n",
      "506/506 [==============================] - 0s 856us/step - loss: 31.6384 - mean_absolute_error: 4.0844\n",
      "Epoch 67/100\n",
      "506/506 [==============================] - 0s 877us/step - loss: 30.0114 - mean_absolute_error: 4.0960\n",
      "Epoch 68/100\n",
      "506/506 [==============================] - 0s 806us/step - loss: 31.7940 - mean_absolute_error: 4.1318\n",
      "Epoch 69/100\n",
      "506/506 [==============================] - 0s 752us/step - loss: 31.2897 - mean_absolute_error: 4.1045\n",
      "Epoch 70/100\n",
      "506/506 [==============================] - 0s 718us/step - loss: 31.1504 - mean_absolute_error: 4.1489\n",
      "Epoch 71/100\n"
     ]
    },
    {
     "name": "stdout",
     "output_type": "stream",
     "text": [
      "506/506 [==============================] - 0s 758us/step - loss: 33.4128 - mean_absolute_error: 4.2396\n",
      "Epoch 72/100\n",
      "506/506 [==============================] - 0s 741us/step - loss: 31.2127 - mean_absolute_error: 4.0479\n",
      "Epoch 73/100\n",
      "506/506 [==============================] - 0s 751us/step - loss: 30.5636 - mean_absolute_error: 4.0176\n",
      "Epoch 74/100\n",
      "506/506 [==============================] - 0s 759us/step - loss: 30.8397 - mean_absolute_error: 4.0603\n",
      "Epoch 75/100\n",
      "506/506 [==============================] - 0s 739us/step - loss: 29.6093 - mean_absolute_error: 3.9658\n",
      "Epoch 76/100\n",
      "506/506 [==============================] - 0s 755us/step - loss: 30.6350 - mean_absolute_error: 4.0825\n",
      "Epoch 77/100\n",
      "506/506 [==============================] - 0s 799us/step - loss: 29.5627 - mean_absolute_error: 3.9741\n",
      "Epoch 78/100\n",
      "506/506 [==============================] - 0s 684us/step - loss: 28.8661 - mean_absolute_error: 3.8911\n",
      "Epoch 79/100\n",
      "506/506 [==============================] - 0s 703us/step - loss: 29.1199 - mean_absolute_error: 3.9547\n",
      "Epoch 80/100\n",
      "506/506 [==============================] - 0s 752us/step - loss: 30.0983 - mean_absolute_error: 4.0118\n",
      "Epoch 81/100\n",
      "506/506 [==============================] - 0s 689us/step - loss: 29.9565 - mean_absolute_error: 4.0899\n",
      "Epoch 82/100\n",
      "506/506 [==============================] - 0s 704us/step - loss: 29.9157 - mean_absolute_error: 3.9679\n",
      "Epoch 83/100\n",
      "506/506 [==============================] - 0s 758us/step - loss: 29.4473 - mean_absolute_error: 3.9891\n",
      "Epoch 84/100\n",
      "506/506 [==============================] - 0s 738us/step - loss: 35.1603 - mean_absolute_error: 4.4331\n",
      "Epoch 85/100\n",
      "506/506 [==============================] - 0s 743us/step - loss: 31.8078 - mean_absolute_error: 4.1143\n",
      "Epoch 86/100\n",
      "506/506 [==============================] - 0s 836us/step - loss: 30.3651 - mean_absolute_error: 4.0692\n",
      "Epoch 87/100\n",
      "506/506 [==============================] - 0s 764us/step - loss: 28.9890 - mean_absolute_error: 3.9395\n",
      "Epoch 88/100\n",
      "506/506 [==============================] - 0s 760us/step - loss: 30.4056 - mean_absolute_error: 3.9982\n",
      "Epoch 89/100\n",
      "506/506 [==============================] - 0s 769us/step - loss: 29.1946 - mean_absolute_error: 3.9121\n",
      "Epoch 90/100\n",
      "506/506 [==============================] - 0s 765us/step - loss: 28.6485 - mean_absolute_error: 3.8786\n",
      "Epoch 91/100\n",
      "506/506 [==============================] - 0s 691us/step - loss: 32.4379 - mean_absolute_error: 4.1772\n",
      "Epoch 92/100\n",
      "506/506 [==============================] - 0s 754us/step - loss: 28.5468 - mean_absolute_error: 3.9158\n",
      "Epoch 93/100\n",
      "506/506 [==============================] - 0s 710us/step - loss: 33.2006 - mean_absolute_error: 4.3455\n",
      "Epoch 94/100\n",
      "506/506 [==============================] - 0s 701us/step - loss: 28.3766 - mean_absolute_error: 3.9038\n",
      "Epoch 95/100\n",
      "506/506 [==============================] - 0s 813us/step - loss: 28.2921 - mean_absolute_error: 3.9245\n",
      "Epoch 96/100\n",
      "506/506 [==============================] - 0s 732us/step - loss: 27.5098 - mean_absolute_error: 3.7897\n",
      "Epoch 97/100\n",
      "506/506 [==============================] - 0s 728us/step - loss: 27.9447 - mean_absolute_error: 3.9025\n",
      "Epoch 98/100\n",
      "506/506 [==============================] - 0s 757us/step - loss: 28.1152 - mean_absolute_error: 3.9928\n",
      "Epoch 99/100\n",
      "506/506 [==============================] - 0s 726us/step - loss: 32.4495 - mean_absolute_error: 4.2089\n",
      "Epoch 100/100\n",
      "506/506 [==============================] - 0s 708us/step - loss: 31.2196 - mean_absolute_error: 4.1853\n"
     ]
    },
    {
     "data": {
      "text/plain": [
       "<tensorflow.python.keras._impl.keras.callbacks.History at 0x18895971320>"
      ]
     },
     "execution_count": 14,
     "metadata": {},
     "output_type": "execute_result"
    }
   ],
   "source": [
    "import tensorflow as tf\n",
    "import keras\n",
    "inputs = keras.Input(shape=(13,))\n",
    "\n",
    "class MyModel(tf.keras.Model):\n",
    "\n",
    "  def __init__(self):\n",
    "    super(MyModel, self).__init__()\n",
    "    self.dense1 = tf.keras.layers.Dense(20, activation=tf.nn.relu)\n",
    "    self.dense2 = tf.keras.layers.Dense(1)\n",
    "\n",
    "  def call(self, inputs):\n",
    "    x = self.dense1(inputs)\n",
    "    return self.dense2(x)\n",
    "\n",
    "model = MyModel()\n",
    "\n",
    "model.compile(optimizer='adam',\n",
    "              loss='mse',\n",
    "              metrics=['mae'])\n",
    "\n",
    "model.fit(X, Y, epochs=100, batch_size=5)\n",
    "    "
   ]
  },
  {
   "cell_type": "markdown",
   "metadata": {},
   "source": [
    "## k-fold validation without using scikit-learn "
   ]
  },
  {
   "cell_type": "code",
   "execution_count": 32,
   "metadata": {},
   "outputs": [
    {
     "name": "stdout",
     "output_type": "stream",
     "text": [
      "processing fold # 0\n",
      "processing fold # 1\n",
      "processing fold # 2\n",
      "processing fold # 3\n",
      "processing fold # 4\n"
     ]
    }
   ],
   "source": [
    "import numpy as np\n",
    "\n",
    "k = 5\n",
    "num_val_samples = len(X) // k\n",
    "num_epochs = 50\n",
    "all_scores = []\n",
    "for i in range(k):\n",
    "    print('processing fold #', i)\n",
    "    # Prepare the vncoded_Y[i * num_val_samples: (i + 1) * num_val_samples]\n",
    "    val_data = X[i * num_val_samples: (i + 1) * num_val_samples]\n",
    "    val_targets = Y[i * num_val_samples: (i + 1) * num_val_samples]\n",
    "    # Prepare the training data: data from all other partitions\n",
    "    partial_train_data = np.concatenate(\n",
    "        [X[:i * num_val_samples],\n",
    "         X[(i + 1) * num_val_samples:]],\n",
    "        axis=0)\n",
    "    partial_train_targets = np.concatenate(\n",
    "        [Y[:i * num_val_samples],\n",
    "         Y[(i + 1) * num_val_samples:]],\n",
    "        axis=0)\n",
    "\n",
    "    # Build the Keras model (already compiled)\n",
    "    model = MyModel()\n",
    "    \n",
    "    model.compile(optimizer='adam',\n",
    "    loss='mse',\n",
    "              metrics=['mae'])\n",
    "    # Train the model (in silent mode, verbose=0)\n",
    "    model.fit(partial_train_data, partial_train_targets, epochs=num_epochs, batch_size=5, verbose=0)\n",
    "    #          epochs=num_epochs,validation_split=10, shuffle=True, batch_size=5, verbose=0)\n",
    "    # Evaluate the model on the validation data\n",
    "    mse, mae = model.evaluate(val_data, val_targets, verbose=0)\n",
    "    all_scores.append(mse)"
   ]
  },
  {
   "cell_type": "code",
   "execution_count": 33,
   "metadata": {},
   "outputs": [
    {
     "name": "stdout",
     "output_type": "stream",
     "text": [
      "Standardized: 34.09 (9.27)\n"
     ]
    }
   ],
   "source": [
    "###### all_scores\n",
    "print(\"Standardized: %.2f (%.2f)\" % (np.mean(all_scores), np.std(all_scores)))\n"
   ]
  },
  {
   "cell_type": "code",
   "execution_count": null,
   "metadata": {},
   "outputs": [],
   "source": []
  }
 ],
 "metadata": {
  "kernelspec": {
   "display_name": "Python 3",
   "language": "python",
   "name": "python3"
  },
  "language_info": {
   "codemirror_mode": {
    "name": "ipython",
    "version": 3
   },
   "file_extension": ".py",
   "mimetype": "text/x-python",
   "name": "python",
   "nbconvert_exporter": "python",
   "pygments_lexer": "ipython3",
   "version": "3.6.4"
  }
 },
 "nbformat": 4,
 "nbformat_minor": 2
}
